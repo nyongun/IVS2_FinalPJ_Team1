from pinkylib import Camera, Pinky
import cv2
import numpy as np
import time

# Camera와 Pinky 객체 생성
cam = Camera()
pinky = Pinky()

# 카메라 시작
cam.start()
pinky.enable_motor()
pinky.start_motor()

# 화면 크기 설정
WIDTH = 620
HEIGHT = 480

# Bird's Eye View 설정 값
h1 = 0.725
h2 = 0.4
w1 = 0.25

# 변환 행렬을 미리 계산
src_point = np.array(
    [[0, h1 * HEIGHT], [WIDTH, h1 * HEIGHT], [w1 * WIDTH, h2 * HEIGHT], [(1 - w1) * WIDTH, h2 * HEIGHT]],
    dtype=np.float32
)
dst_point = np.array([[0, HEIGHT], [WIDTH, HEIGHT], [0, 0], [WIDTH, 0]], dtype=np.float32)
matrix = cv2.getPerspectiveTransform(src_point, dst_point)

# Bird's Eye View 변환 함수에서 미리 계산된 matrix 사용
def bird_eye_view(img):
    dst = cv2.warpPerspective(img, matrix, (WIDTH, HEIGHT))
    return dst

# Canny Edge Detection 함수 (Gaussian Blur와 Dilation 포함)
def canny_detector(img, low_threshold=50, high_threshold=150):
    blurred = cv2.GaussianBlur(img, (5, 5), 0)
    edges = cv2.Canny(blurred, low_threshold, high_threshold)
    dilated_edges = cv2.dilate(edges, np.ones((3, 3), np.uint8), iterations=1)
    return dilated_edges

# 수평선 제거 함수 (허프 변환 사용)
def remove_horizontal_edges(edges):
    lines = cv2.HoughLinesP(edges, 1, np.pi / 180, threshold=50, minLineLength=100, maxLineGap=20)
    if lines is not None:
        for line in lines:
            x1, y1, x2, y2 = line[0]
            angle = np.abs(np.arctan2(y2 - y1, x2 - x1) * 180 / np.pi)
            # 각도가 0~10도 또는 170~180도 사이이면 수평으로 간주하고 제거
            if angle < 10 or angle > 170:
                cv2.line(edges, (x1, y1), (x2, y2), (0, 0, 0), 5)
    return edges

# 이전 두 차선 중심 위치를 저장할 변수
previous_lane_center_x = None
current_lane_center_x = None
missed_frames = 0  # 미검출 프레임 수

try:
    while True:
        # 카메라로부터 프레임을 가져옴
        frame = cam.get_frame()
        
        # Bird's Eye View 적용
        bird_view = bird_eye_view(frame)
        
        # Canny Edge Detection 수행
        edges = canny_detector(bird_view)
        
        # 수평선 제거
        edges_no_horizontal = remove_horizontal_edges(edges)
        
        # 차선의 중심을 찾기 위해 이미지의 아래쪽 부분에 스캔라인을 설정
        scan_line_y = edges_no_horizontal.shape[0] - 50  # 아래쪽 50픽셀 위에 스캔라인 설정
        scan_line = edges_no_horizontal[scan_line_y, :]

        # 차선의 왼쪽과 오른쪽 가장자리 찾기
        left_line_x = None
        right_line_x = None

        for x in range(WIDTH // 2):
            if scan_line[x] > 0:
                left_line_x = x
                break

        for x in range(WIDTH - 1, WIDTH // 2, -1):
            if scan_line[x] > 0:
                right_line_x = x
                break

        # 차선이 감지되지 않은 경우 예측된 위치를 사용
        if left_line_x is None and right_line_x is None:
            missed_frames += 1
            if missed_frames > 1:
                # 최대 허용 미검출 프레임 수를 초과하면 멈춤
                pinky.stop()
                
                previous_lane_center_x = None  # 마지막 차선 위치 초기화
                continue
            if previous_lane_center_x is not None and current_lane_center_x is not None:
                velocity = current_lane_center_x - previous_lane_center_x
                lane_center_x = current_lane_center_x + velocity
            else:
                pinky.stop()
                continue
        else:
            # 차선이 감지된 경우, missed_frames를 초기화
            missed_frames = 0
            if left_line_x is not None and right_line_x is not None:
                # 양쪽 차선이 모두 감지된 경우
                lane_center_x = (left_line_x + right_line_x) // 2
                previous_lane_center_x = current_lane_center_x
                current_lane_center_x = lane_center_x
            elif left_line_x is not None:
                # 왼쪽 차선만 감지된 경우, 오른쪽으로 꺾어 차선 탐색
                lane_center_x = left_line_x + WIDTH // 4
                previous_lane_center_x = current_lane_center_x
                current_lane_center_x = lane_center_x
                # 오른쪽으로 더 꺾기
                left_speed = 60
                right_speed = 90  # 오른쪽 바퀴를 더 빠르게
                pinky.move(left_speed, right_speed)
                continue
            elif right_line_x is not None:
                # 오른쪽 차선만 감지된 경우, 왼쪽으로 꺾어 차선 탐색
                lane_center_x = right_line_x - WIDTH // 4
                previous_lane_center_x = current_lane_center_x
                current_lane_center_x = lane_center_x
                # 왼쪽으로 더 꺾기
                left_speed = 80  # 왼쪽 바퀴를 더 빠르게
                right_speed = 60
                pinky.move(left_speed, right_speed)
                continue

        frame_center_x = WIDTH // 2

        # 차선 중심과 화면 중심의 차이 계산
        dx = lane_center_x - frame_center_x
        
        # dx에 따라 모터 속도 조정
        base_speed = 90  # 기본 속도를 낮춤
        adjustment = 6  # 조정 속도도 줄임

        if abs(dx) < 8:
            # 거의 중앙에 있으면 직진
            left_speed = base_speed
            right_speed = base_speed
        elif dx > 0:
            # 오른쪽으로 치우쳐 있으면 왼쪽 바퀴 속도 증가
            left_speed = base_speed + adjustment
            
            right_speed = base_speed - adjustment
        else:
            # 왼쪽으로 치우쳐 있으면 오른쪽 바퀴 속도 증가
            left_speed = base_speed - adjustment
            right_speed = base_speed + adjustment+3

        # 모터 움직임
        pinky.move(left_speed, right_speed)

        # 두 개의 화면을 하나로 합침 (좌: 원본, 우: 수평선 제거 후 엣지)
        #combined_display = np.hstack((frame, cv2.cvtColor(edges_no_horizontal, cv2.COLOR_GRAY2BGR)))

        # 결과 화면 표시
        #cam.display_jupyter(combined_display)

        # 'q' 키로 종료
        #if cv2.waitKey(1) & 0xFF == ord('q'):
            #break

finally:
    # 종료 시 모터와 카메라 정리
    pinky.stop()
    pinky.disable_motor()
    pinky.stop_motor()
    pinky.clean()
    cam.close()
